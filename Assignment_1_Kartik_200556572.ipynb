{
 "cells": [
  {
   "cell_type": "markdown",
   "id": "8c8a1aa9",
   "metadata": {},
   "source": [
    "**************************\n",
    "# __ASSINGMENT 1__\n",
    "**************************\n",
    "\n",
    "<br>\n",
    "<br>\n",
    "\n",
    "#####  <font color=blue>BDAT1004_Data programming </font>\n",
    "<br>\n",
    "<br>\n",
    "<br>\n",
    "<br>\n",
    "<br>\n",
    "Submited by - Kartik Chopra\n",
    "Id - 200556572\n",
    "\n",
    "\n",
    "\n",
    "\n",
    "Submited To - Ethan davis\n",
    "\n"
   ]
  },
  {
   "cell_type": "markdown",
   "id": "ad48f506",
   "metadata": {},
   "source": [
    "#### Question 1\n",
    "What data type in each of the following (evaluate where necessary)?\n",
    "<br>\n",
    " 5<br>\n",
    "5.0<br>\n",
    "5 > 1<br>\n",
    "'5'<br>\n",
    "5 * 2<br>\n",
    "'5' * 2<br>\n",
    "'5' + '2'<br>\n",
    "5 / 2<br>\n",
    "5 % 2<br>\n",
    "{5, 2, 1}<br>\n",
    "5 == 3<br>\n",
    "Pi (the number)<br>"
   ]
  },
  {
   "cell_type": "code",
   "execution_count": 1,
   "id": "d4309189",
   "metadata": {},
   "outputs": [
    {
     "name": "stdout",
     "output_type": "stream",
     "text": [
      "Type i: <class 'int'>\n",
      "Type j: <class 'float'>\n",
      "Type k: <class 'bool'>\n",
      "Type l: <class 'str'>\n",
      "Type m: <class 'int'>\n",
      "Type n: <class 'str'>\n",
      "Type o: <class 'str'>\n",
      "Type p: <class 'float'>\n",
      "Type q: <class 'int'>\n",
      "Type r: <class 'set'>\n",
      "Type s: <class 'bool'>\n",
      "Type t: <class 'float'>\n"
     ]
    }
   ],
   "source": [
    "Data = { 'i': 5, \n",
    "            'j' : 5.0,\n",
    "            'k'  :5 > 1,\n",
    "            'l':  '5',\n",
    "            'm' : 5 * 2,\n",
    "            'n' : '5' * 2,\n",
    "            'o' : '5' + '2',\n",
    "            'p' : 5 / 2,\n",
    "            'q' : 5 % 2,\n",
    "            'r' : {5, 2, 1},\n",
    "            's' : 5 == 3,\n",
    "            't' : 3.147\n",
    "       }\n",
    "for key, value in Data.items():\n",
    "    print(f\"Type {key}: {type(value)}\");"
   ]
  },
  {
   "cell_type": "markdown",
   "id": "aa12b03f",
   "metadata": {},
   "source": [
    "#### Question 2\n",
    "\n",
    "Write (and evaluate) python expressions that answer these questions:\n",
    "1. How many letters are there in 'Supercalifragilisticexpialidocious'?\n",
    "2. Does 'Supercalifragilisticexpialidocious' contain 'ice' as a substring? \n",
    "3. Which of the following words is the longest:\n",
    "    Supercalifragilisticexpialidocious, Honorificabilitudinitatibus, or\n",
    "    Bababadalgharaghtakamminarronnkonn?\n",
    "4. Which composer comes first in the dictionary: 'Berlioz', 'Borodin', 'Brian',\n",
    "'Bartok', 'Bellini', 'Buxtehude', 'Bernstein'. Which one comes last?"
   ]
  },
  {
   "cell_type": "code",
   "execution_count": 2,
   "id": "a2a3d308",
   "metadata": {},
   "outputs": [
    {
     "name": "stdout",
     "output_type": "stream",
     "text": [
      "34\n"
     ]
    }
   ],
   "source": [
    "a = 'Supercalifragilisticexpialidocious'\n",
    "print(len(a));"
   ]
  },
  {
   "cell_type": "code",
   "execution_count": 3,
   "id": "339d2600",
   "metadata": {},
   "outputs": [
    {
     "name": "stdout",
     "output_type": "stream",
     "text": [
      " Keyword in the string\n"
     ]
    }
   ],
   "source": [
    "full = 'Supercalifragilisticexpialidocious'\n",
    "sub = 'ice'\n",
    "\n",
    "if sub in full:\n",
    "    print(\" Keyword in the string\")\n",
    "else:\n",
    "    print(\"Keyword not in the string\")"
   ]
  },
  {
   "cell_type": "code",
   "execution_count": 4,
   "id": "a78e10c0",
   "metadata": {},
   "outputs": [
    {
     "name": "stdout",
     "output_type": "stream",
     "text": [
      "c is the longest word\n"
     ]
    }
   ],
   "source": [
    "a = \"Supercalifragilisticexpialidocious\"\n",
    "b = \"Honorificabilitudinitatibus\"\n",
    "c =\"Bababadalgharaghtakamminarronnkonn\"\n",
    "if len(a) > len(b) and len(a) > len(c):\n",
    "    print(\"a is the longest word\")\n",
    "elif len(b) > len(a) and len(b) > len(c):\n",
    "    print(\"b is the longest word\")\n",
    "else:\n",
    "    print(\"c is the longest word\")"
   ]
  },
  {
   "cell_type": "code",
   "execution_count": 5,
   "id": "6acbe083",
   "metadata": {},
   "outputs": [
    {
     "name": "stdout",
     "output_type": "stream",
     "text": [
      "1st Composer :  Buxtehude\n",
      "last Composer :  Bartok\n"
     ]
    }
   ],
   "source": [
    "composer = ['Berlioz','Borodin','Brian','Bartok', 'Bellini', 'Buxtehude', 'Bernstein']\n",
    "\n",
    "first = max(composer)\n",
    "Last = min(composer)\n",
    "\n",
    "print(\"1st Composer : \",first)\n",
    "print(\"last Composer : \", Last)"
   ]
  },
  {
   "cell_type": "markdown",
   "id": "2106b26d",
   "metadata": {},
   "source": [
    "#### Question 3\n",
    "\n",
    "Implement function triangleArea(a,b,c) that takes as input the lengths of the 3\n",
    "sides of a triangle and returns the area of the triangle. By Heron's formula, the area\n",
    "of a triangle with side lengths a, b, and c is\n",
    "s(s - a)(s -b)(s -c)\n",
    ", where\n",
    "s = (a+b+c)/2.\n",
    ">>> triangleArea(2,2,2)\n",
    "1.7320508075688772\n"
   ]
  },
  {
   "cell_type": "code",
   "execution_count": 6,
   "id": "3d456ecc",
   "metadata": {},
   "outputs": [
    {
     "name": "stdout",
     "output_type": "stream",
     "text": [
      "Enter side a of triangle2\n",
      "Enter side b of triangle2\n",
      "Enter side c of triangle2\n",
      "Area of triangle 1.7320508075688772\n"
     ]
    }
   ],
   "source": [
    "a = float(input(\"Enter side a of triangle\"))\n",
    "b = float(input(\"Enter side b of triangle\"))\n",
    "c = float(input(\"Enter side c of triangle\"))\n",
    "\n",
    "s = (a+b+c)/2\n",
    "triangle_area = (s*(s-a)*(s-b)*(s-c))** 0.5\n",
    "\n",
    "print(\"Area of triangle\", triangle_area);"
   ]
  },
  {
   "cell_type": "markdown",
   "id": "edef6cd6",
   "metadata": {},
   "source": [
    "#### Question 4\n",
    "\n",
    "Write a program in python to separate odd and even integers in separate arrays. Go\n",
    "to the editor\n",
    "<br>\n",
    "Test Data :<br>\n",
    "Input the number of elements to be stored in the array :5<br>\n",
    "Input 5 elements in the array :<br>\n",
    "element - 0 : 25<br>\n",
    "element - 1 : 47<br>\n",
    "element - 2 : 42<br>\n",
    "element - 3 : 56<br>\n",
    "element - 4 : 32<br>\n",
    "Expected Output:<br>\n",
    "The Even elements are:<br>\n",
    "42 56 32<br>\n",
    "The Odd elements are :<br>\n",
    "25 47<br>"
   ]
  },
  {
   "cell_type": "code",
   "execution_count": 8,
   "id": "6616689d",
   "metadata": {},
   "outputs": [
    {
     "name": "stdout",
     "output_type": "stream",
     "text": [
      "Enter element 1: 25\n",
      "Enter element 2: 47\n",
      "Enter element 3: 42\n",
      "Enter element 4: 56\n",
      "Enter element 5: 32\n",
      "Even elements are: 42 56 32\n",
      "Odd elements are: 25 47\n"
     ]
    }
   ],
   "source": [
    "even = []\n",
    "odd = []\n",
    "\n",
    "for i in range(5):\n",
    "    element = int(input(f\"Enter element {i+1}: \"))\n",
    "    if element % 2 == 0:\n",
    "        even.append(str(element))\n",
    "    else:\n",
    "        odd.append(str(element))\n",
    "\n",
    "even_out = ' '.join(even)\n",
    "odd_out = ' '.join(odd)\n",
    "\n",
    "print(\"Even elements are:\",even_out)\n",
    "\n",
    "print(\"Odd elements are:\",odd_out)\n"
   ]
  },
  {
   "cell_type": "markdown",
   "id": "d1bbb8af",
   "metadata": {},
   "source": [
    "#### Question 5\n",
    "\n",
    "a. Write a function inside(x,y,x1,y1,x2,y2) that returns True or False\n",
    "depending on whether the point (x,y) lies in the rectangle with lower left\n",
    "corner (x1,y1) and upper right corner (x2,y2).<br>\n",
    "<br>\n",
    "inside(1,1,0,0,2,3)<br>\n",
    "True<br>\n",
    "inside(-1,-1,0,0,2,3)<br>\n",
    "False<br>\n",
    "<br>\n",
    "b. Use function inside() from part a. to write an expression that tests whether\n",
    "the point (1,1) lies in both of the following rectangles: one with lower left\n",
    "corner (0.3, 0.5) and upper right corner (1.1, 0.7) and the other with lower\n",
    "left corner (0.5, 0.2) and upper right corner (1.1, 2). "
   ]
  },
  {
   "cell_type": "code",
   "execution_count": 9,
   "id": "9a238f6d",
   "metadata": {},
   "outputs": [
    {
     "name": "stdout",
     "output_type": "stream",
     "text": [
      "True\n",
      "False\n"
     ]
    }
   ],
   "source": [
    "def inside(x, y, x1, y1, x2, y2):\n",
    "    if x1 <= x <= x2 and y1 <= y <= y2:\n",
    "        return True\n",
    "    else:\n",
    "        return False\n",
    "\n",
    "e = inside(1, 1, 0, 0, 2, 3)\n",
    "f = inside(1, 1, 0.3, 0.5, 1.1, 0.7) and inside(1, 1, 0.5, 0.2, 1.1, 2)\n",
    "\n",
    "print(e)\n",
    "print(f)"
   ]
  },
  {
   "cell_type": "markdown",
   "id": "c914d332",
   "metadata": {},
   "source": [
    "#### Question 6\n",
    "\n",
    "You can turn a word into pig-Latin using the following two rules (simplified):\n",
    "• If the word starts with a consonant, move that letter to the end and append\n",
    "'ay'. For example, 'happy' becomes 'appyhay' and 'pencil' becomes 'encilpay'.\n",
    "• If the word starts with a vowel, simply append 'way' to the end of the word.\n",
    "For example, 'enter' becomes 'enterway' and 'other' becomes 'otherway' . For\n",
    "our purposes, there are 5 vowels: a, e, i, o, u (so we count y as a consonant).\n",
    "Write a function pig() that takes a word (i.e., a string) as input and returns its pigLatin form. Your function should still work if the input word contains upper case<br>\n",
    "characters. Your output should always be lower case however.<br>\n",
    " pig('happy')<br>\n",
    "'appyhay'<br>\n",
    "pig('Enter')<br>\n",
    "'enterway<br>"
   ]
  },
  {
   "cell_type": "code",
   "execution_count": 10,
   "id": "70215c37",
   "metadata": {},
   "outputs": [
    {
     "name": "stdout",
     "output_type": "stream",
     "text": [
      "Enter a word: Kartik\n",
      "The Pig-Latin word is: artikkay\n"
     ]
    }
   ],
   "source": [
    "User_input = input(\"Enter a word: \")\n",
    "def pig(x):\n",
    "    x = x.lower()\n",
    "    z = ['a', 'e', 'i', 'o', 'u']\n",
    "\n",
    "    if x[0] in z: \n",
    "        return x + 'way'\n",
    "    else:  \n",
    "        return x[1:] + x[0] + 'ay'\n",
    "\n",
    "y = pig(User_input)\n",
    "\n",
    "print(\"The Pig-Latin word is:\", y)"
   ]
  },
  {
   "cell_type": "markdown",
   "id": "aca5d3b5",
   "metadata": {},
   "source": [
    "#### Question 7\n",
    "File bloodtype1.txt records blood-types of patients (A, B, AB, O or OO) at a clinic.\n",
    "Write a function bldcount() that reads the file with name name and reports (i.e.,\n",
    "prints) how many patients there are in each bloodtype.<br>\n",
    "bldcount('bloodtype.txt')<br>\n",
    "There are 10 patients of blood type A.<br>\n",
    "There is one patient of blood type B.<br>\n",
    "There are 10 patients of blood type AB.<br>\n",
    "There are 12 patients of blood type O.<br>\n",
    "There are no patients of blood type OO.<br>\n"
   ]
  },
  {
   "cell_type": "code",
   "execution_count": 11,
   "id": "c2250ac3",
   "metadata": {},
   "outputs": [
    {
     "name": "stdout",
     "output_type": "stream",
     "text": [
      "There are 15 patients of blood type A.\n",
      "There is one patient of blood type B.\n",
      "There are 13 patients of blood type AB.\n",
      "There are 15 patients of blood type O.\n",
      "There are no patients of blood type OO.\n"
     ]
    }
   ],
   "source": [
    "def bldcount(x):\n",
    "    blood_types = {\"A\": 0, \"B\": 0, \"AB\": 0, \"O\": 0, \"OO\": 0}\n",
    "\n",
    "    with open(x, \"r\") as file:\n",
    "        lines = file.readlines()\n",
    "\n",
    "    for line in lines:\n",
    "        blood_type = line.strip()\n",
    "        if blood_type in blood_types:\n",
    "            blood_types[blood_type] += 1\n",
    "\n",
    "    for blood_type, count in blood_types.items():\n",
    "        if count == 0:\n",
    "            print(f\"There are no patients of blood type {blood_type}.\")\n",
    "        elif count == 1:\n",
    "            print(f\"There is one patient of blood type {blood_type}.\")\n",
    "        else:\n",
    "            print(f\"There are {count} patients of blood type {blood_type}.\")\n",
    "\n",
    "bldcount('bloodtype1.txt')"
   ]
  },
  {
   "cell_type": "markdown",
   "id": "9c909723",
   "metadata": {},
   "source": [
    "#### Question 8 \n",
    "\n",
    "Write a function curconv() that takes as input:\n",
    "1. a currency represented using a string (e.g., 'JPY' for the Japanese Yen or\n",
    "'EUR' for the Euro)\n",
    "2. an amount\n",
    "and then converts and returns the amount in US dollars.<br>\n",
    "curconv('EUR', 100)<br>\n",
    "122.96544<br>\n",
    "curconv('JPY', 100)<br>\n",
    "1.241401<br>\n",
    "The currency rates you will need are stored in file currencies.txt:<br>\n",
    "AUD 1.0345157 Australian Dollar<br>\n",
    "CHF 1.0237414 Swiss Franc<br>\n",
    "CNY 0.1550176 Chinese Yuan<br>\n",
    "DKK 0.1651442 Danish Krone<br>\n",
    "EUR 1.2296544 Euro<br>\n",
    "GBP 1.5550989 British Pound<br>\n",
    "HKD 0.1270207 Hong Kong Dollar<br>\n",
    "INR 0.0177643 Indian Rupee<br>\n",
    "JPY 0.01241401 Japanese Yen<br>\n",
    "MXN 0.0751848 Mexican Peso<br>\n",
    "MYR 0.3145411 Malaysian Ringgit<br>\n",
    "NOK 0.1677063 Norwegian Krone<br>\n",
    "NZD 0.8003591 New Zealand Dollar<br>\n",
    "PHP 0.0233234 Philippine Peso<br>\n",
    "SEK 0.148269 Swedish Krona<br>\n",
    "SGD 0.788871 Singapore Dollar<br>\n",
    "THB 0.0313789 Thai Baht<br>\n"
   ]
  },
  {
   "cell_type": "code",
   "execution_count": 12,
   "id": "b1a8e5a3",
   "metadata": {},
   "outputs": [
    {
     "name": "stdout",
     "output_type": "stream",
     "text": [
      "122.96544\n",
      "1.241401\n"
     ]
    }
   ],
   "source": [
    "def curconv(x, y):\n",
    "    conversion_rates = {}\n",
    "    with open('Currencies.txt', 'r') as file:\n",
    "        for line in file:\n",
    "            values = line.split()\n",
    "            conversion_rates[values[0]] = float(values[1])\n",
    "\n",
    "    if x in conversion_rates:\n",
    "        conversion_rate = conversion_rates[x]\n",
    "        converted_amount = y * conversion_rate / 1.0\n",
    "        return converted_amount\n",
    "    else:\n",
    "        return None\n",
    "\n",
    "result1 = curconv('EUR', 100)\n",
    "result2 = curconv('JPY', 100)\n",
    "print(result1)\n",
    "print(result2)\n"
   ]
  },
  {
   "cell_type": "markdown",
   "id": "0fe69cca",
   "metadata": {},
   "source": [
    "#### Question 9\n",
    "\n",
    "Each of the following will cause an exception (an error). Identify what type of\n",
    "exception each will cause.<br>\n",
    "Trying to add incompatible variables, as in<br>\n",
    "adding 6 + ‘a’<br>\n",
    "Referring to the 12th item of a list that has only 10<br>\n",
    "items<br>\n",
    "Using a value that is out of range for a function’s<br>\n",
    "input, such as calling math.sqrt(-1.0)<br>\n",
    "Using an undeclared variable, such as print(x)<br>\n",
    "when x has not been defined<br>\n",
    "Trying to open a file that does not exist, such as<br>\n",
    "mistyping the file name or looking in the wrong<br>\n",
    "directory. <br>"
   ]
  },
  {
   "cell_type": "markdown",
   "id": "d0aeb4ff",
   "metadata": {},
   "source": [
    "Answer's\n",
    "1) Adding 6 + ‘a’<br>\n",
    "Exception : <b>Type Error</b> <br>\n",
    "\n",
    "2) Referring to the 12th item of a list that has only 10 items\n",
    "Exception : <b>IndexError</b> <br>\n",
    "\n",
    "3) Using a value that is out of range for a function’s input, such as calling math.sqrt(-1.0)<br>\n",
    "Exception : <b>Value Error</b> <br>\n",
    "\n",
    "4) Using an undeclared variable, such as print(x) when x has not been defined<br>\n",
    "Exception : <b>Name Error</b> <br>\n",
    "\n",
    "5) Trying to open a file that does not exist, such as mistyping the file name or looking in the wrong directory. <br>\n",
    "Exception : <b>FileNotFOundError</b> <br>\n"
   ]
  },
  {
   "cell_type": "markdown",
   "id": "fc765890",
   "metadata": {},
   "source": [
    "#### Question 10 \n",
    "Encryption is the process of hiding the meaning of a text by substituting letters in the\n",
    "message with other letters, according to some system. If the process is successful, no\n",
    "one but the intended recipient can understand the encrypted message. Cryptanalysis\n",
    "refers to attempts to undo the encryption, even if some details of the encryption are\n",
    "unknown (for example, if an encrypted message has been intercepted). The first step\n",
    "of cryptanalysis is often to build up a table of letter frequencies in the encrypted text.\n",
    "Assume that the string letters is already defined as<br>\n",
    "'abcdefghijklmnopqrstuvwxyz'. Write a function called frequencies()<br>\n",
    "that takes a string as its only parameter, and returns a list of integers, showing the<br>\n",
    "number of times each character appears in the text. Your function may ignore any<br>\n",
    "characters that are not in letters.<br>\n",
    "frequencies('The quick red fox got bored and went home.')<br>\n",
    "[1, 1, 1, 3, 5, 1, 1, 2, 1, 0, 1, 0, 1, 2, 4, 0, 1, 2, 0, 2,<br>\n",
    "1, 0, 1, 1, 0, 0]<br>\n",
    "frequencies('apple')<br>"
   ]
  },
  {
   "cell_type": "code",
   "execution_count": 13,
   "id": "c5588d78",
   "metadata": {},
   "outputs": [
    {
     "name": "stdout",
     "output_type": "stream",
     "text": [
      "[1, 1, 1, 3, 5, 1, 1, 2, 1, 0, 1, 0, 1, 2, 4, 0, 1, 2, 0, 3, 1, 0, 1, 1, 0, 0]\n",
      "[1, 0, 0, 0, 1, 0, 0, 0, 0, 0, 0, 1, 0, 0, 0, 2, 0, 0, 0, 0, 0, 0, 0, 0, 0, 0]\n"
     ]
    }
   ],
   "source": [
    "def frequencies(ab):\n",
    "    c = [0] * 26 \n",
    "    for char in ab.lower():\n",
    "        if 'a' <= char <= 'z':\n",
    "            index = ord(char) - ord('a')\n",
    "            c[index] += 1\n",
    "    \n",
    "    return c\n",
    "\n",
    "print(frequencies('The quick red fox got bored and went home.'))\n",
    "print(frequencies('apple'))"
   ]
  }
 ],
 "metadata": {
  "kernelspec": {
   "display_name": "Python 3 (ipykernel)",
   "language": "python",
   "name": "python3"
  },
  "language_info": {
   "codemirror_mode": {
    "name": "ipython",
    "version": 3
   },
   "file_extension": ".py",
   "mimetype": "text/x-python",
   "name": "python",
   "nbconvert_exporter": "python",
   "pygments_lexer": "ipython3",
   "version": "3.10.9"
  }
 },
 "nbformat": 4,
 "nbformat_minor": 5
}
